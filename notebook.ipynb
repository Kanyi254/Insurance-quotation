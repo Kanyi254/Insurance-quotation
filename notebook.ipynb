{
  "nbformat": 4,
  "nbformat_minor": 0,
  "metadata": {
    "colab": {
      "provenance": [],
      "authorship_tag": "ABX9TyOFGRiOeO7cv1aLGd5m3xFn",
      "include_colab_link": true
    },
    "kernelspec": {
      "name": "python3",
      "display_name": "Python 3"
    },
    "language_info": {
      "name": "python"
    }
  },
  "cells": [
    {
      "cell_type": "markdown",
      "metadata": {
        "id": "view-in-github",
        "colab_type": "text"
      },
      "source": [
        "<a href=\"https://colab.research.google.com/github/Kanyi254/Insurance-quotation/blob/Brandon/notebook.ipynb\" target=\"_parent\"><img src=\"https://colab.research.google.com/assets/colab-badge.svg\" alt=\"Open In Colab\"/></a>"
      ]
    },
    {
      "cell_type": "code",
      "source": [
        "import pandas as pd"
      ],
      "metadata": {
        "id": "MUjQO8Tl88mZ"
      },
      "execution_count": 16,
      "outputs": []
    },
    {
      "cell_type": "code",
      "execution_count": 17,
      "metadata": {
        "colab": {
          "base_uri": "https://localhost:8080/"
        },
        "id": "rtoH8C4Q8kGg",
        "outputId": "3ae5f6eb-3389-4f57-f1e5-389941e324b4"
      },
      "outputs": [
        {
          "output_type": "stream",
          "name": "stdout",
          "text": [
            "Premium Q4 Columns: Index(['Policy Holder ID', 'Principal beneficiary', 'Dependants',\n",
            "       'Total beneficiaries', 'Police ID', 'Start Date of Cover',\n",
            "       'End Date of Cover', ' ', 'Unnamed: 8', 'Unnamed: 9', 'Unnamed: 10',\n",
            "       'Unnamed: 11', 'Premium Amount', 'Benefit Limit', 'Unnamed: 14',\n",
            "       'Unnamed: 15', 'Unnamed: 16', 'Unnamed: 17', 'Unnamed: 18',\n",
            "       'Premium Paid/Billed'],\n",
            "      dtype='object')\n",
            "Claims Q4 Columns: Index(['Policy Holder ID', 'Member ID', 'Start Date of Cover',\n",
            "       'End Date of Cover', 'Unnamed: 4', 'Unnamed: 5',\n",
            "       'Date of Claim/Treatment Date', 'Date of Payment/Approval Date',\n",
            "       'Amount Claimed', 'Unnamed: 9', 'Unnamed: 10', 'Unnamed: 11',\n",
            "       'Unnamed: 12', 'Unnamed: 13', 'Amount Paid', 'Unnamed: 15',\n",
            "       'Unnamed: 16', 'Unnamed: 17', 'Unnamed: 18', 'Unnamed: 19',\n",
            "       'Unnamed: 20', 'Benefit Limit', 'Unnamed: 22', 'Unnamed: 23',\n",
            "       'Unnamed: 24', 'Unnamed: 25', 'Unnamed: 26', 'Provider Name/Code'],\n",
            "      dtype='object')\n",
            "Premium Q3 Columns: Index(['Policy Holder ID', 'Principal beneficiary', 'Dependants',\n",
            "       'Total beneficiaries', 'Police ID', 'Start Date of Cover',\n",
            "       'End Date of Cover', ' ', 'Unnamed: 8', 'Unnamed: 9', 'Unnamed: 10',\n",
            "       'Unnamed: 11', 'Premium Amount', 'Benefit Limit', 'Unnamed: 14',\n",
            "       'Unnamed: 15', 'Unnamed: 16', 'Unnamed: 17', 'Unnamed: 18',\n",
            "       'Premium Paid/Billed'],\n",
            "      dtype='object')\n",
            "Claims Q3 Columns: Index(['Policy Holder ID', 'Member ID', 'Start Date of Cover',\n",
            "       'End Date of Cover', 'Date of Claim/Treatment Date',\n",
            "       'Date of Payment/Approval Date', 'Amount Claimed', 'Unnamed: 7',\n",
            "       'Unnamed: 8', 'Unnamed: 9', 'Unnamed: 10', 'Unnamed: 11', 'Amount Paid',\n",
            "       'Unnamed: 13', 'Unnamed: 14', 'Unnamed: 15', 'Unnamed: 16',\n",
            "       'Unnamed: 17', 'Unnamed: 18', 'Benefit Limit', 'Unnamed: 20',\n",
            "       'Unnamed: 21', 'Unnamed: 22', 'Unnamed: 23', 'Unnamed: 24',\n",
            "       'Provider Name/Code'],\n",
            "      dtype='object')\n"
          ]
        }
      ],
      "source": [
        "# Load the full datasets for Q3 and Q4\n",
        "file_path_q4 = 'BICOR LIFE - Medical Quota share - 4th qtr 2020.xlsx'\n",
        "file_path_q3 = 'Medical quota share treaty  3rd Qtr 2020.xlsx'\n",
        "\n",
        "xls_q4 = pd.ExcelFile(file_path_q4)\n",
        "xls_q3 = pd.ExcelFile(file_path_q3)\n",
        "\n",
        "premium_q4_full = pd.read_excel(xls_q4, sheet_name='Premium Bordereaux')\n",
        "claims_q4_full = pd.read_excel(xls_q4, sheet_name='Claims Bordereaux')\n",
        "premium_q3_full = pd.read_excel(xls_q3, sheet_name='Premium Bordereaux')\n",
        "claims_q3_full = pd.read_excel(xls_q3, sheet_name='Claims Bordereaux')\n",
        "\n",
        "# Display column names to inspect\n",
        "print(\"Premium Q4 Columns:\", premium_q4_full.columns)\n",
        "print(\"Claims Q4 Columns:\", claims_q4_full.columns)\n",
        "print(\"Premium Q3 Columns:\", premium_q3_full.columns)\n",
        "print(\"Claims Q3 Columns:\", claims_q3_full.columns)"
      ]
    },
    {
      "cell_type": "code",
      "source": [
        "# Drop columns that are mostly empty or irrelevant\n",
        "premium_q4_clean = premium_q4_full.dropna(axis=1, how='all')\n",
        "claims_q4_clean = claims_q4_full.dropna(axis=1, how='all')\n",
        "premium_q3_clean = premium_q3_full.dropna(axis=1, how='all')\n",
        "claims_q3_clean = claims_q3_full.dropna(axis=1, how='all')"
      ],
      "metadata": {
        "id": "JPYqZNwc9jxR"
      },
      "execution_count": 18,
      "outputs": []
    },
    {
      "cell_type": "code",
      "source": [
        "# Convert 'Policy Holder ID' to string type\n",
        "claims_q4_clean['Policy Holder ID'] = claims_q4_clean['Policy Holder ID'].astype(str)\n",
        "\n",
        "# Alternatively for Q3 dataset:\n",
        "premium_q4_clean['Policy Holder ID'] = premium_q4_clean['Policy Holder ID'].astype(str)\n"
      ],
      "metadata": {
        "colab": {
          "base_uri": "https://localhost:8080/"
        },
        "id": "05dGKPgPTbWV",
        "outputId": "fd1e04cb-139e-4f32-d33e-8ae458c2d03b"
      },
      "execution_count": 19,
      "outputs": [
        {
          "output_type": "stream",
          "name": "stderr",
          "text": [
            "<ipython-input-19-195a1889571e>:2: SettingWithCopyWarning: \n",
            "A value is trying to be set on a copy of a slice from a DataFrame.\n",
            "Try using .loc[row_indexer,col_indexer] = value instead\n",
            "\n",
            "See the caveats in the documentation: https://pandas.pydata.org/pandas-docs/stable/user_guide/indexing.html#returning-a-view-versus-a-copy\n",
            "  claims_q4_clean['Policy Holder ID'] = claims_q4_clean['Policy Holder ID'].astype(str)\n"
          ]
        }
      ]
    },
    {
      "cell_type": "code",
      "source": [
        "# Handle missing values by dropping rows with missing premium or claims data\n",
        "# Replace with actual column names from your dataset\n",
        "premium_q4_clean = premium_q4_clean.dropna(subset=['Premium Amount', 'Premium Paid/Billed']) # Replaced 'Premium', 'Paid to Date' with actual column names 'Premium Amount', 'Premium Paid/Billed'\n",
        "\n",
        "# Changed 'Incurred to date' to 'Amount Claimed' based on column names provided\n",
        "claims_q4_clean = claims_q4_clean.dropna(subset=['Amount Claimed', 'Policy Holder ID'])\n",
        "\n",
        "premium_q3_clean = premium_q3_clean.dropna(subset=['Premium Amount', 'Premium Paid/Billed']) # Replaced 'Premium', 'Paid to Date' with actual column names 'Premium Amount', 'Premium Paid/Billed'\n",
        "# Assuming 'Amount Claimed' is the equivalent for Q3 as well - adjust if needed\n",
        "claims_q3_clean = claims_q3_clean.dropna(subset=['Amount Claimed', 'Policy Holder ID'])\n",
        "\n",
        "# Display the cleaned data\n",
        "print(premium_q4_clean.head())\n",
        "print(claims_q4_clean.head())\n",
        "print(premium_q3_clean.head())\n",
        "print(claims_q3_clean.head())\n"
      ],
      "metadata": {
        "colab": {
          "base_uri": "https://localhost:8080/"
        },
        "id": "FJqPe2Sj_ji0",
        "outputId": "495c3dfc-6a6d-4cf9-e73e-8b1e22dbbb6c"
      },
      "execution_count": 20,
      "outputs": [
        {
          "output_type": "stream",
          "name": "stdout",
          "text": [
            "               Policy Holder ID  Principal beneficiary Dependants  \\\n",
            "1           NDUWUMUKAMA CHARLES                    1.0          4   \n",
            "2      NSABIYUMVA JEAN BERTRAND                    1.0          2   \n",
            "3   BICOR VIE ET CAPITALISATION                   20.0         42   \n",
            "4      NDABARUSHIMANA DIEUDONNE                    1.0          4   \n",
            "14       BURUNDI LEND AND LEASE                    1.0          1   \n",
            "\n",
            "    Total beneficiaries   Police ID  Start Date of Cover End Date of Cover  \\\n",
            "1                   5.0  20000030.0  2020-10-22 00:00:00        2021-10-21   \n",
            "2                   3.0  19000002.0  2020-10-23 00:00:00        2021-10-22   \n",
            "3                  62.0  19000005.0  2020-11-05 00:00:00        2021-11-04   \n",
            "4                   5.0  20000031.0  2020-12-04 00:00:00        2021-12-03   \n",
            "14                  2.0  20000012.0        November 2020        2021-05-04   \n",
            "\n",
            "             Unnamed: 8 Unnamed: 9 Unnamed: 10 Unnamed: 11  Premium Amount  \\\n",
            "1     948885          1     948885      948885         NaN        948885.0   \n",
            "2    1200000          1    1200000     1200000         NaN       1200000.0   \n",
            "3   17785380          1   17785380    17785380         NaN      17785380.0   \n",
            "4    1374930          1    1374930     1374930         NaN       1374930.0   \n",
            "14     65972          1      65972       65972         NaN         65972.0   \n",
            "\n",
            "   Benefit Limit Unnamed: 14 Unnamed: 15 Unnamed: 16 Unnamed: 17 Unnamed: 18  \\\n",
            "1        1200000     8000000      150000      150000      100000      500000   \n",
            "2        1200000     7200000      250000      250000      100000      500000   \n",
            "3        1200000     8000000      250000      250000      100000     3000000   \n",
            "4        1500000     8000000      200000      200000      100000      500000   \n",
            "14       1200000     8000000      250000      250000      100000     3500000   \n",
            "\n",
            "    Premium Paid/Billed  \n",
            "1              948885.0  \n",
            "2             1200000.0  \n",
            "3            17785380.0  \n",
            "4             1374930.0  \n",
            "14              65972.0  \n",
            "                     Policy Holder ID               Member ID  \\\n",
            "0                                 nan                     NaN   \n",
            "2  ALLIANCE BURUNDAISE CONTRE LE SIDA        NIMENYA Gloriose   \n",
            "3                                 nan  HABONAYO Pierre Claver   \n",
            "4                                 nan  HABONAYO Pierre Claver   \n",
            "5                                 nan  HABONAYO Pierre Claver   \n",
            "\n",
            "  Start Date of Cover End Date of Cover Date of Claim/Treatment Date  \\\n",
            "0                 NaT               NaT                          NaN   \n",
            "2          2020-06-01        2021-05-31                   2020-10-27   \n",
            "3          2020-06-01        2021-05-31                   2020-12-23   \n",
            "4          2020-06-01        2021-05-31                   2020-12-23   \n",
            "5          2020-06-01        2021-05-31                   2020-12-26   \n",
            "\n",
            "  Date of Payment/Approval Date         Amount Claimed            Unnamed: 9  \\\n",
            "0                           NaN  Outpatient per family  Inpatient per family   \n",
            "2                    2020-10-27                  24200                   NaN   \n",
            "3                    2020-12-23                   5000                   NaN   \n",
            "4                    2020-12-23                   5200                   NaN   \n",
            "5                    2020-12-26                 468450                   NaN   \n",
            "\n",
            "             Unnamed: 10            Unnamed: 11  ...  \\\n",
            "0  Dental per individual   optic per individual  ...   \n",
            "2                    NaN                    NaN  ...   \n",
            "3                    NaN                    NaN  ...   \n",
            "4                    NaN                    NaN  ...   \n",
            "5                    NaN                    NaN  ...   \n",
            "\n",
            "                      Unnamed: 18  \\\n",
            "0  spectacle frame per individual   \n",
            "2                             NaN   \n",
            "3                             NaN   \n",
            "4                             NaN   \n",
            "5                             NaN   \n",
            "\n",
            "                                         Unnamed: 19        Unnamed: 20  \\\n",
            "0  Death and total permanent disability cover per...  Total claims Paid   \n",
            "2                                                NaN              24200   \n",
            "3                                                NaN               5000   \n",
            "4                                                NaN               5200   \n",
            "5                                                NaN             468450   \n",
            "\n",
            "                 Benefit Limit                 Unnamed: 22  \\\n",
            "0  Limit Outpatient per family  Limit inpatient per family   \n",
            "2                      1200000                     8000000   \n",
            "3                      1200000                     8000000   \n",
            "4                      1200000                     8000000   \n",
            "5                      1200000                     8000000   \n",
            "\n",
            "                   Unnamed: 23                 Unnamed: 24  \\\n",
            "0  Limit Dental per individual  Limit optic per individual   \n",
            "2                       250000                      250000   \n",
            "3                       250000                      250000   \n",
            "4                       250000                      250000   \n",
            "5                       250000                      250000   \n",
            "\n",
            "                            Unnamed: 25  \\\n",
            "0  Limit spectacle frame per individual   \n",
            "2                                100000   \n",
            "3                                100000   \n",
            "4                                100000   \n",
            "5                                100000   \n",
            "\n",
            "                                         Unnamed: 26  \\\n",
            "0  Death and total permanent disability cover per...   \n",
            "2                                            3500000   \n",
            "3                                            3500000   \n",
            "4                                            3500000   \n",
            "5                                            3500000   \n",
            "\n",
            "                                 Provider Name/Code  \n",
            "0                                               NaN  \n",
            "2                  Centre Médical Croix Rouge MWARO  \n",
            "3                                    Pharmacie IRIS  \n",
            "4                                    Pharmacie IRIS  \n",
            "5  Clinique Medico - Chirurgicale Chretienne ROHERO  \n",
            "\n",
            "[5 rows x 26 columns]\n",
            "                 Policy Holder ID  Principal beneficiary Dependants  \\\n",
            "1  AMBASSADEUR KWIZERA DIEUDONNE                     1.0          0   \n",
            "2                  CHIRO BURUNDI                     8.0         11   \n",
            "3    CENTRE BURUNDAIS D INTERNET                    39.0         99   \n",
            "4                NTAHONDEREYE DEO                    1.0          0   \n",
            "5            HELP CHANEL BURUNDI                    66.0        251   \n",
            "\n",
            "   Total beneficiaries   Police ID  Start Date of Cover End Date of Cover  \\\n",
            "1                  1.0  20000019.0  2020-07-01 00:00:00        2021-06-30   \n",
            "2                 19.0  20000021.0  2020-07-17 00:00:00        2020-10-16   \n",
            "3                138.0  20000022.0  2020-07-01 00:00:00        2021-06-30   \n",
            "4                  1.0  20000023.0  2020-08-05 00:00:00        2021-08-04   \n",
            "5                317.0  20000018.0  2020-07-01 00:00:00        2021-06-30   \n",
            "\n",
            "            Unnamed: 8 Unnamed: 9 Unnamed: 10 Unnamed: 11  Premium Amount  \\\n",
            "1   1638558          1    1638558     1638558         NaN       1638558.0   \n",
            "2   2315283          1    2315283     2315283         NaN       2315283.0   \n",
            "3  37030503          4    9257626    37030503         NaN      37030503.0   \n",
            "4    968957          1     968957      968957         NaN        968957.0   \n",
            "5  31217569          2   15608785    31217569         NaN      31217569.0   \n",
            "\n",
            "  Benefit Limit Unnamed: 14 Unnamed: 15 Unnamed: 16 Unnamed: 17 Unnamed: 18  \\\n",
            "1       1200000     8000000      250000      250000      100000     5000000   \n",
            "2        500000     3000000      150000      150000       50000     3500000   \n",
            "3       2000000     6000000      300000      250000      150000     1000000   \n",
            "4       1500000     8000000      250000      250000      100000     5000000   \n",
            "5       1200000     8000000      250000      250000      100000     3500000   \n",
            "\n",
            "   Premium Paid/Billed  \n",
            "1            1638558.0  \n",
            "2            2315283.0  \n",
            "3           37030503.0  \n",
            "4             968957.0  \n",
            "5           31217569.0  \n",
            "                       Policy Holder ID           Member ID  \\\n",
            "2    ALLIANCE BURUNDAISE CONTRE LE SIDA     NISUBIRE GERARD   \n",
            "167                                BBIN        BIHAYI Elvis   \n",
            "352          BICOR ASSURANCES GENERALES  ISHIMWE Tessy Résa   \n",
            "694                           BICOR VIE      NIBARUTA Ndero   \n",
            "769              BURUNDI LEND AND LEASE    NIYONDIKO CEDRIC   \n",
            "\n",
            "    Start Date of Cover End Date of Cover Date of Claim/Treatment Date  \\\n",
            "2            2020-06-01        2021-05-31                   2020-07-01   \n",
            "167          2020-02-01        2021-01-31                   2020-07-01   \n",
            "352          2020-04-06        2020-12-31                   2020-07-02   \n",
            "694          2019-11-05        2020-11-04                   2020-07-08   \n",
            "769          2020-05-04        2021-05-03                   2020-07-02   \n",
            "\n",
            "    Date of Payment/Approval Date Amount Claimed Unnamed: 7 Unnamed: 8  \\\n",
            "2                      2020-07-01          10000        NaN        NaN   \n",
            "167                    2020-07-01          40100        NaN        NaN   \n",
            "352                    2020-07-02          12000        NaN        NaN   \n",
            "694                    2020-07-08          20000        NaN        NaN   \n",
            "769                    2020-07-02           8200        NaN        NaN   \n",
            "\n",
            "    Unnamed: 9  ... Unnamed: 16 Unnamed: 17 Unnamed: 18 Benefit Limit  \\\n",
            "2          NaN  ...         NaN         NaN       10000       1200000   \n",
            "167        NaN  ...         NaN         NaN       40100       1200000   \n",
            "352        NaN  ...         NaN         NaN       12000       1500000   \n",
            "694        NaN  ...         NaN         NaN       20000       1080000   \n",
            "769        NaN  ...         NaN         NaN        8200       1200000   \n",
            "\n",
            "    Unnamed: 20 Unnamed: 21 Unnamed: 22 Unnamed: 23 Unnamed: 24  \\\n",
            "2       8000000      250000      250000      100000     3500000   \n",
            "167     8000000      250000      250000      100000     3000000   \n",
            "352     8000000      250000      250000      100000     2500000   \n",
            "694    10000000      150000      360000      100000     3860000   \n",
            "769     8000000      250000      250000      100000     3500000   \n",
            "\n",
            "                Provider Name/Code  \n",
            "2    CLINIQUE D OPHTALMOLOGIE IRIS  \n",
            "167         CARE - 24 Hope (Ngozi)  \n",
            "352                  KIRA HOSPITAL  \n",
            "694        Clinique La Misericorde  \n",
            "769        PHARMACIE SALAMA siège   \n",
            "\n",
            "[5 rows x 26 columns]\n"
          ]
        }
      ]
    },
    {
      "cell_type": "code",
      "source": [
        "from sklearn.ensemble import IsolationForest\n",
        "\n",
        "# Assuming 'claims_q4_clean' and 'premium_q4_clean' are your cleaned datasets\n",
        "\n",
        "# Step 1: Combine relevant features for anomaly detection\n",
        "# Adjust these columns based on your dataset structure\n",
        "features = claims_q4_clean[['Total claims Paid', 'Other Relevant Feature']]\n",
        "\n",
        "# Step 2: Train Isolation Forest model\n",
        "iso_forest = IsolationForest(contamination=0.05)  # Adjust contamination based on desired sensitivity\n",
        "iso_forest.fit(features)\n",
        "\n",
        "# Step 3: Predict anomalies (-1 for anomaly, 1 for normal)\n",
        "claims_q4_clean['anomaly'] = iso_forest.predict(features)\n",
        "\n",
        "# Step 4: Filter out anomalies\n",
        "anomalies = claims_q4_clean[claims_q4_clean['anomaly'] == -1]\n",
        "\n",
        "# Display detected anomalies\n",
        "print(\"Detected Anomalies:\")\n",
        "print(anomalies)\n",
        "\n",
        "# You can also trigger alerts based on anomalies\n",
        "if not anomalies.empty:\n",
        "    print(\"Alert: Anomalies detected!\")\n"
      ],
      "metadata": {
        "colab": {
          "base_uri": "https://localhost:8080/",
          "height": 391
        },
        "id": "4jTuY4hMTz-u",
        "outputId": "1b2b8340-5076-459f-9ae0-d07ca7a098dd"
      },
      "execution_count": 22,
      "outputs": [
        {
          "output_type": "error",
          "ename": "KeyError",
          "evalue": "\"None of [Index(['Total claims Paid', 'Other Relevant Feature'], dtype='object')] are in the [columns]\"",
          "traceback": [
            "\u001b[0;31m---------------------------------------------------------------------------\u001b[0m",
            "\u001b[0;31mKeyError\u001b[0m                                  Traceback (most recent call last)",
            "\u001b[0;32m<ipython-input-22-8b540f340535>\u001b[0m in \u001b[0;36m<cell line: 7>\u001b[0;34m()\u001b[0m\n\u001b[1;32m      5\u001b[0m \u001b[0;31m# Step 1: Combine relevant features for anomaly detection\u001b[0m\u001b[0;34m\u001b[0m\u001b[0;34m\u001b[0m\u001b[0m\n\u001b[1;32m      6\u001b[0m \u001b[0;31m# Adjust these columns based on your dataset structure\u001b[0m\u001b[0;34m\u001b[0m\u001b[0;34m\u001b[0m\u001b[0m\n\u001b[0;32m----> 7\u001b[0;31m \u001b[0mfeatures\u001b[0m \u001b[0;34m=\u001b[0m \u001b[0mclaims_q4_clean\u001b[0m\u001b[0;34m[\u001b[0m\u001b[0;34m[\u001b[0m\u001b[0;34m'Total claims Paid'\u001b[0m\u001b[0;34m,\u001b[0m \u001b[0;34m'Other Relevant Feature'\u001b[0m\u001b[0;34m]\u001b[0m\u001b[0;34m]\u001b[0m\u001b[0;34m\u001b[0m\u001b[0;34m\u001b[0m\u001b[0m\n\u001b[0m\u001b[1;32m      8\u001b[0m \u001b[0;34m\u001b[0m\u001b[0m\n\u001b[1;32m      9\u001b[0m \u001b[0;31m# Step 2: Train Isolation Forest model\u001b[0m\u001b[0;34m\u001b[0m\u001b[0;34m\u001b[0m\u001b[0m\n",
            "\u001b[0;32m/usr/local/lib/python3.10/dist-packages/pandas/core/frame.py\u001b[0m in \u001b[0;36m__getitem__\u001b[0;34m(self, key)\u001b[0m\n\u001b[1;32m   4106\u001b[0m             \u001b[0;32mif\u001b[0m \u001b[0mis_iterator\u001b[0m\u001b[0;34m(\u001b[0m\u001b[0mkey\u001b[0m\u001b[0;34m)\u001b[0m\u001b[0;34m:\u001b[0m\u001b[0;34m\u001b[0m\u001b[0;34m\u001b[0m\u001b[0m\n\u001b[1;32m   4107\u001b[0m                 \u001b[0mkey\u001b[0m \u001b[0;34m=\u001b[0m \u001b[0mlist\u001b[0m\u001b[0;34m(\u001b[0m\u001b[0mkey\u001b[0m\u001b[0;34m)\u001b[0m\u001b[0;34m\u001b[0m\u001b[0;34m\u001b[0m\u001b[0m\n\u001b[0;32m-> 4108\u001b[0;31m             \u001b[0mindexer\u001b[0m \u001b[0;34m=\u001b[0m \u001b[0mself\u001b[0m\u001b[0;34m.\u001b[0m\u001b[0mcolumns\u001b[0m\u001b[0;34m.\u001b[0m\u001b[0m_get_indexer_strict\u001b[0m\u001b[0;34m(\u001b[0m\u001b[0mkey\u001b[0m\u001b[0;34m,\u001b[0m \u001b[0;34m\"columns\"\u001b[0m\u001b[0;34m)\u001b[0m\u001b[0;34m[\u001b[0m\u001b[0;36m1\u001b[0m\u001b[0;34m]\u001b[0m\u001b[0;34m\u001b[0m\u001b[0;34m\u001b[0m\u001b[0m\n\u001b[0m\u001b[1;32m   4109\u001b[0m \u001b[0;34m\u001b[0m\u001b[0m\n\u001b[1;32m   4110\u001b[0m         \u001b[0;31m# take() does not accept boolean indexers\u001b[0m\u001b[0;34m\u001b[0m\u001b[0;34m\u001b[0m\u001b[0m\n",
            "\u001b[0;32m/usr/local/lib/python3.10/dist-packages/pandas/core/indexes/base.py\u001b[0m in \u001b[0;36m_get_indexer_strict\u001b[0;34m(self, key, axis_name)\u001b[0m\n\u001b[1;32m   6198\u001b[0m             \u001b[0mkeyarr\u001b[0m\u001b[0;34m,\u001b[0m \u001b[0mindexer\u001b[0m\u001b[0;34m,\u001b[0m \u001b[0mnew_indexer\u001b[0m \u001b[0;34m=\u001b[0m \u001b[0mself\u001b[0m\u001b[0;34m.\u001b[0m\u001b[0m_reindex_non_unique\u001b[0m\u001b[0;34m(\u001b[0m\u001b[0mkeyarr\u001b[0m\u001b[0;34m)\u001b[0m\u001b[0;34m\u001b[0m\u001b[0;34m\u001b[0m\u001b[0m\n\u001b[1;32m   6199\u001b[0m \u001b[0;34m\u001b[0m\u001b[0m\n\u001b[0;32m-> 6200\u001b[0;31m         \u001b[0mself\u001b[0m\u001b[0;34m.\u001b[0m\u001b[0m_raise_if_missing\u001b[0m\u001b[0;34m(\u001b[0m\u001b[0mkeyarr\u001b[0m\u001b[0;34m,\u001b[0m \u001b[0mindexer\u001b[0m\u001b[0;34m,\u001b[0m \u001b[0maxis_name\u001b[0m\u001b[0;34m)\u001b[0m\u001b[0;34m\u001b[0m\u001b[0;34m\u001b[0m\u001b[0m\n\u001b[0m\u001b[1;32m   6201\u001b[0m \u001b[0;34m\u001b[0m\u001b[0m\n\u001b[1;32m   6202\u001b[0m         \u001b[0mkeyarr\u001b[0m \u001b[0;34m=\u001b[0m \u001b[0mself\u001b[0m\u001b[0;34m.\u001b[0m\u001b[0mtake\u001b[0m\u001b[0;34m(\u001b[0m\u001b[0mindexer\u001b[0m\u001b[0;34m)\u001b[0m\u001b[0;34m\u001b[0m\u001b[0;34m\u001b[0m\u001b[0m\n",
            "\u001b[0;32m/usr/local/lib/python3.10/dist-packages/pandas/core/indexes/base.py\u001b[0m in \u001b[0;36m_raise_if_missing\u001b[0;34m(self, key, indexer, axis_name)\u001b[0m\n\u001b[1;32m   6247\u001b[0m         \u001b[0;32mif\u001b[0m \u001b[0mnmissing\u001b[0m\u001b[0;34m:\u001b[0m\u001b[0;34m\u001b[0m\u001b[0;34m\u001b[0m\u001b[0m\n\u001b[1;32m   6248\u001b[0m             \u001b[0;32mif\u001b[0m \u001b[0mnmissing\u001b[0m \u001b[0;34m==\u001b[0m \u001b[0mlen\u001b[0m\u001b[0;34m(\u001b[0m\u001b[0mindexer\u001b[0m\u001b[0;34m)\u001b[0m\u001b[0;34m:\u001b[0m\u001b[0;34m\u001b[0m\u001b[0;34m\u001b[0m\u001b[0m\n\u001b[0;32m-> 6249\u001b[0;31m                 \u001b[0;32mraise\u001b[0m \u001b[0mKeyError\u001b[0m\u001b[0;34m(\u001b[0m\u001b[0;34mf\"None of [{key}] are in the [{axis_name}]\"\u001b[0m\u001b[0;34m)\u001b[0m\u001b[0;34m\u001b[0m\u001b[0;34m\u001b[0m\u001b[0m\n\u001b[0m\u001b[1;32m   6250\u001b[0m \u001b[0;34m\u001b[0m\u001b[0m\n\u001b[1;32m   6251\u001b[0m             \u001b[0mnot_found\u001b[0m \u001b[0;34m=\u001b[0m \u001b[0mlist\u001b[0m\u001b[0;34m(\u001b[0m\u001b[0mensure_index\u001b[0m\u001b[0;34m(\u001b[0m\u001b[0mkey\u001b[0m\u001b[0;34m)\u001b[0m\u001b[0;34m[\u001b[0m\u001b[0mmissing_mask\u001b[0m\u001b[0;34m.\u001b[0m\u001b[0mnonzero\u001b[0m\u001b[0;34m(\u001b[0m\u001b[0;34m)\u001b[0m\u001b[0;34m[\u001b[0m\u001b[0;36m0\u001b[0m\u001b[0;34m]\u001b[0m\u001b[0;34m]\u001b[0m\u001b[0;34m.\u001b[0m\u001b[0munique\u001b[0m\u001b[0;34m(\u001b[0m\u001b[0;34m)\u001b[0m\u001b[0;34m)\u001b[0m\u001b[0;34m\u001b[0m\u001b[0;34m\u001b[0m\u001b[0m\n",
            "\u001b[0;31mKeyError\u001b[0m: \"None of [Index(['Total claims Paid', 'Other Relevant Feature'], dtype='object')] are in the [columns]\""
          ]
        }
      ]
    },
    {
      "source": [
        "from sklearn.ensemble import IsolationForest\n",
        "\n",
        "# Assuming 'claims_q4_clean' and 'premium_q4_clean' are your cleaned datasets\n",
        "\n",
        "# Step 1: Combine relevant features for anomaly detection\n",
        "# Adjust these columns based on your dataset structure - Replace with actual column names\n",
        "# Check the actual column names in your 'claims_q4_clean' DataFrame using: print(claims_q4_clean.columns)\n",
        "# Replace 'Total claims Paid', 'Other Relevant Feature' with the correct column names from the output\n",
        "features = claims_q4_clean[['Amount Claimed', 'Policy Number']]\n",
        "\n",
        "# Step 2: Train Isolation Forest model\n",
        "iso_forest = IsolationForest(contamination=0.05)  # Adjust contamination based on desired sensitivity\n",
        "iso_forest.fit(features)\n",
        "\n",
        "# Step 3: Predict anomalies (-1 for anomaly, 1 for normal)\n",
        "claims_q4_clean['anomaly'] = iso_forest.predict(features)\n",
        "\n",
        "# Step 4: Filter out anomalies\n",
        "anomalies = claims_q4_clean[claims_q4_clean['anomaly'] == -1]\n",
        "\n",
        "# Display detected anomalies\n",
        "print(\"Detected Anomalies:\")\n",
        "print(anomalies)\n",
        "\n",
        "# You can also trigger alerts based on anomalies\n",
        "if not anomalies.empty:\n",
        "    print(\"Alert: Anomalies detected!\")"
      ],
      "cell_type": "code",
      "metadata": {
        "colab": {
          "base_uri": "https://localhost:8080/",
          "height": 408
        },
        "id": "Jq8EugegUbOQ",
        "outputId": "0515f8d4-b772-4979-fc4a-818481cfe2fe"
      },
      "execution_count": 23,
      "outputs": [
        {
          "output_type": "error",
          "ename": "KeyError",
          "evalue": "\"['Policy Number'] not in index\"",
          "traceback": [
            "\u001b[0;31m---------------------------------------------------------------------------\u001b[0m",
            "\u001b[0;31mKeyError\u001b[0m                                  Traceback (most recent call last)",
            "\u001b[0;32m<ipython-input-23-19904c515c1a>\u001b[0m in \u001b[0;36m<cell line: 9>\u001b[0;34m()\u001b[0m\n\u001b[1;32m      7\u001b[0m \u001b[0;31m# Check the actual column names in your 'claims_q4_clean' DataFrame using: print(claims_q4_clean.columns)\u001b[0m\u001b[0;34m\u001b[0m\u001b[0;34m\u001b[0m\u001b[0m\n\u001b[1;32m      8\u001b[0m \u001b[0;31m# Replace 'Total claims Paid', 'Other Relevant Feature' with the correct column names from the output\u001b[0m\u001b[0;34m\u001b[0m\u001b[0;34m\u001b[0m\u001b[0m\n\u001b[0;32m----> 9\u001b[0;31m \u001b[0mfeatures\u001b[0m \u001b[0;34m=\u001b[0m \u001b[0mclaims_q4_clean\u001b[0m\u001b[0;34m[\u001b[0m\u001b[0;34m[\u001b[0m\u001b[0;34m'Amount Claimed'\u001b[0m\u001b[0;34m,\u001b[0m \u001b[0;34m'Policy Number'\u001b[0m\u001b[0;34m]\u001b[0m\u001b[0;34m]\u001b[0m\u001b[0;34m\u001b[0m\u001b[0;34m\u001b[0m\u001b[0m\n\u001b[0m\u001b[1;32m     10\u001b[0m \u001b[0;34m\u001b[0m\u001b[0m\n\u001b[1;32m     11\u001b[0m \u001b[0;31m# Step 2: Train Isolation Forest model\u001b[0m\u001b[0;34m\u001b[0m\u001b[0;34m\u001b[0m\u001b[0m\n",
            "\u001b[0;32m/usr/local/lib/python3.10/dist-packages/pandas/core/frame.py\u001b[0m in \u001b[0;36m__getitem__\u001b[0;34m(self, key)\u001b[0m\n\u001b[1;32m   4106\u001b[0m             \u001b[0;32mif\u001b[0m \u001b[0mis_iterator\u001b[0m\u001b[0;34m(\u001b[0m\u001b[0mkey\u001b[0m\u001b[0;34m)\u001b[0m\u001b[0;34m:\u001b[0m\u001b[0;34m\u001b[0m\u001b[0;34m\u001b[0m\u001b[0m\n\u001b[1;32m   4107\u001b[0m                 \u001b[0mkey\u001b[0m \u001b[0;34m=\u001b[0m \u001b[0mlist\u001b[0m\u001b[0;34m(\u001b[0m\u001b[0mkey\u001b[0m\u001b[0;34m)\u001b[0m\u001b[0;34m\u001b[0m\u001b[0;34m\u001b[0m\u001b[0m\n\u001b[0;32m-> 4108\u001b[0;31m             \u001b[0mindexer\u001b[0m \u001b[0;34m=\u001b[0m \u001b[0mself\u001b[0m\u001b[0;34m.\u001b[0m\u001b[0mcolumns\u001b[0m\u001b[0;34m.\u001b[0m\u001b[0m_get_indexer_strict\u001b[0m\u001b[0;34m(\u001b[0m\u001b[0mkey\u001b[0m\u001b[0;34m,\u001b[0m \u001b[0;34m\"columns\"\u001b[0m\u001b[0;34m)\u001b[0m\u001b[0;34m[\u001b[0m\u001b[0;36m1\u001b[0m\u001b[0;34m]\u001b[0m\u001b[0;34m\u001b[0m\u001b[0;34m\u001b[0m\u001b[0m\n\u001b[0m\u001b[1;32m   4109\u001b[0m \u001b[0;34m\u001b[0m\u001b[0m\n\u001b[1;32m   4110\u001b[0m         \u001b[0;31m# take() does not accept boolean indexers\u001b[0m\u001b[0;34m\u001b[0m\u001b[0;34m\u001b[0m\u001b[0m\n",
            "\u001b[0;32m/usr/local/lib/python3.10/dist-packages/pandas/core/indexes/base.py\u001b[0m in \u001b[0;36m_get_indexer_strict\u001b[0;34m(self, key, axis_name)\u001b[0m\n\u001b[1;32m   6198\u001b[0m             \u001b[0mkeyarr\u001b[0m\u001b[0;34m,\u001b[0m \u001b[0mindexer\u001b[0m\u001b[0;34m,\u001b[0m \u001b[0mnew_indexer\u001b[0m \u001b[0;34m=\u001b[0m \u001b[0mself\u001b[0m\u001b[0;34m.\u001b[0m\u001b[0m_reindex_non_unique\u001b[0m\u001b[0;34m(\u001b[0m\u001b[0mkeyarr\u001b[0m\u001b[0;34m)\u001b[0m\u001b[0;34m\u001b[0m\u001b[0;34m\u001b[0m\u001b[0m\n\u001b[1;32m   6199\u001b[0m \u001b[0;34m\u001b[0m\u001b[0m\n\u001b[0;32m-> 6200\u001b[0;31m         \u001b[0mself\u001b[0m\u001b[0;34m.\u001b[0m\u001b[0m_raise_if_missing\u001b[0m\u001b[0;34m(\u001b[0m\u001b[0mkeyarr\u001b[0m\u001b[0;34m,\u001b[0m \u001b[0mindexer\u001b[0m\u001b[0;34m,\u001b[0m \u001b[0maxis_name\u001b[0m\u001b[0;34m)\u001b[0m\u001b[0;34m\u001b[0m\u001b[0;34m\u001b[0m\u001b[0m\n\u001b[0m\u001b[1;32m   6201\u001b[0m \u001b[0;34m\u001b[0m\u001b[0m\n\u001b[1;32m   6202\u001b[0m         \u001b[0mkeyarr\u001b[0m \u001b[0;34m=\u001b[0m \u001b[0mself\u001b[0m\u001b[0;34m.\u001b[0m\u001b[0mtake\u001b[0m\u001b[0;34m(\u001b[0m\u001b[0mindexer\u001b[0m\u001b[0;34m)\u001b[0m\u001b[0;34m\u001b[0m\u001b[0;34m\u001b[0m\u001b[0m\n",
            "\u001b[0;32m/usr/local/lib/python3.10/dist-packages/pandas/core/indexes/base.py\u001b[0m in \u001b[0;36m_raise_if_missing\u001b[0;34m(self, key, indexer, axis_name)\u001b[0m\n\u001b[1;32m   6250\u001b[0m \u001b[0;34m\u001b[0m\u001b[0m\n\u001b[1;32m   6251\u001b[0m             \u001b[0mnot_found\u001b[0m \u001b[0;34m=\u001b[0m \u001b[0mlist\u001b[0m\u001b[0;34m(\u001b[0m\u001b[0mensure_index\u001b[0m\u001b[0;34m(\u001b[0m\u001b[0mkey\u001b[0m\u001b[0;34m)\u001b[0m\u001b[0;34m[\u001b[0m\u001b[0mmissing_mask\u001b[0m\u001b[0;34m.\u001b[0m\u001b[0mnonzero\u001b[0m\u001b[0;34m(\u001b[0m\u001b[0;34m)\u001b[0m\u001b[0;34m[\u001b[0m\u001b[0;36m0\u001b[0m\u001b[0;34m]\u001b[0m\u001b[0;34m]\u001b[0m\u001b[0;34m.\u001b[0m\u001b[0munique\u001b[0m\u001b[0;34m(\u001b[0m\u001b[0;34m)\u001b[0m\u001b[0;34m)\u001b[0m\u001b[0;34m\u001b[0m\u001b[0;34m\u001b[0m\u001b[0m\n\u001b[0;32m-> 6252\u001b[0;31m             \u001b[0;32mraise\u001b[0m \u001b[0mKeyError\u001b[0m\u001b[0;34m(\u001b[0m\u001b[0;34mf\"{not_found} not in index\"\u001b[0m\u001b[0;34m)\u001b[0m\u001b[0;34m\u001b[0m\u001b[0;34m\u001b[0m\u001b[0m\n\u001b[0m\u001b[1;32m   6253\u001b[0m \u001b[0;34m\u001b[0m\u001b[0m\n\u001b[1;32m   6254\u001b[0m     \u001b[0;34m@\u001b[0m\u001b[0moverload\u001b[0m\u001b[0;34m\u001b[0m\u001b[0;34m\u001b[0m\u001b[0m\n",
            "\u001b[0;31mKeyError\u001b[0m: \"['Policy Number'] not in index\""
          ]
        }
      ]
    }
  ]
}